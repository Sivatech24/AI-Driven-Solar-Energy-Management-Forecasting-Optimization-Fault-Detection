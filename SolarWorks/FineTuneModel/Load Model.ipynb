{
 "cells": [
  {
   "cell_type": "code",
   "execution_count": 9,
   "id": "ca6cb043-2586-487d-9624-2cd8a313aae1",
   "metadata": {},
   "outputs": [],
   "source": [
    "from tensorflow.keras.models import load_model\n",
    "\n",
    "model = load_model(\"electricity_prediction_dense.keras\", compile=False)  # Avoids optimizer mismatch\n",
    "model.compile(optimizer=\"adam\", loss=\"mse\")  # Recompile with a new optimizer"
   ]
  },
  {
   "cell_type": "code",
   "execution_count": 10,
   "id": "6577e5c9-248a-4bcd-8734-d270344cd25f",
   "metadata": {},
   "outputs": [
    {
     "name": "stderr",
     "output_type": "stream",
     "text": [
      "C:\\Users\\tech\\AppData\\Local\\Temp\\ipykernel_1984\\1431266430.py:10: FutureWarning: DataFrame.fillna with 'method' is deprecated and will raise in a future version. Use obj.ffill() or obj.bfill() instead.\n",
      "  df = df.fillna(method=\"ffill\")\n"
     ]
    },
    {
     "name": "stdout",
     "output_type": "stream",
     "text": [
      "\u001b[1m424/424\u001b[0m \u001b[32m━━━━━━━━━━━━━━━━━━━━\u001b[0m\u001b[37m\u001b[0m \u001b[1m1s\u001b[0m 3ms/step\n"
     ]
    }
   ],
   "source": [
    "import pandas as pd\n",
    "import numpy as np\n",
    "from sklearn.preprocessing import MinMaxScaler\n",
    "from sklearn.model_selection import train_test_split\n",
    "\n",
    "# Load dataset\n",
    "df = pd.read_csv(\"data1.csv\", parse_dates=[\"DATE_TIME\"])\n",
    "\n",
    "# Handle missing values\n",
    "df = df.fillna(method=\"ffill\")\n",
    "\n",
    "# Extract time-based features\n",
    "df[\"HOUR\"] = df[\"DATE_TIME\"].dt.hour\n",
    "df[\"DAY\"] = df[\"DATE_TIME\"].dt.day\n",
    "df[\"MONTH\"] = df[\"DATE_TIME\"].dt.month\n",
    "df[\"YEAR\"] = df[\"DATE_TIME\"].dt.year\n",
    "\n",
    "# Select features\n",
    "features = [\"DC_POWER\", \"DAILY_YIELD\", \"TOTAL_YIELD\", \"HOUR\", \"DAY\", \"MONTH\", \"YEAR\"]\n",
    "target = \"AC_POWER\"\n",
    "\n",
    "# Normalize data\n",
    "scaler = MinMaxScaler()\n",
    "df[features + [target]] = scaler.fit_transform(df[features + [target]])\n",
    "\n",
    "# Split into input (X) and output (y)\n",
    "X = df[features].values\n",
    "y = df[target].values\n",
    "\n",
    "# Split into training and testing sets\n",
    "X_train, X_test, y_train, y_test = train_test_split(X, y, test_size=0.2, random_state=42)\n",
    "\n",
    "# Now you can safely predict\n",
    "y_pred = model.predict(X_test)"
   ]
  },
  {
   "cell_type": "code",
   "execution_count": 13,
   "id": "d1d167da-eff8-4f72-83a5-8211e929cc1f",
   "metadata": {},
   "outputs": [
    {
     "name": "stdout",
     "output_type": "stream",
     "text": [
      "[[ 7.67282546e-01]\n",
      " [ 5.22400022e-01]\n",
      " [ 1.99377537e-05]\n",
      " [-1.16586685e-04]\n",
      " [-1.37031078e-04]\n",
      " [ 2.26795673e-05]\n",
      " [-2.17556953e-05]\n",
      " [ 1.73124671e-03]\n",
      " [ 3.06801587e-01]\n",
      " [ 4.11957502e-04]\n",
      " [ 4.97822046e-01]\n",
      " [-5.26905060e-05]\n",
      " [-3.19436193e-04]\n",
      " [-5.79059124e-05]\n",
      " [ 6.02804422e-01]\n",
      " [ 4.28314239e-01]\n",
      " [-2.78055668e-05]\n",
      " [ 3.26546133e-01]\n",
      " [-1.09225512e-05]\n",
      " [ 3.31473172e-01]]\n"
     ]
    }
   ],
   "source": [
    "print(y_pred[:20])  # Print first 10 predictions"
   ]
  },
  {
   "cell_type": "code",
   "execution_count": 14,
   "id": "12eefe92-b83f-41c6-998f-cf887c4e155d",
   "metadata": {},
   "outputs": [
    {
     "name": "stdout",
     "output_type": "stream",
     "text": [
      "[1.06430059e+03 7.24957987e+02 0.00000000e+00 0.00000000e+00\n",
      " 0.00000000e+00 0.00000000e+00 0.00000000e+00 1.65239189e+00\n",
      " 4.24773783e+02 1.84689666e-02 6.90255880e+02 0.00000000e+00\n",
      " 2.03834090e+01 0.00000000e+00 8.37086461e+02 5.94614452e+02\n",
      " 0.00000000e+00 4.51144402e+02 0.00000000e+00 4.58840580e+02]\n"
     ]
    }
   ],
   "source": [
    "# Ensure predictions are non-negative\n",
    "y_pred_actual = np.clip(y_pred_actual, 0, None)\n",
    "\n",
    "# Print final corrected predictions\n",
    "print(y_pred_actual[:20])"
   ]
  },
  {
   "cell_type": "code",
   "execution_count": 17,
   "id": "894ece94-daad-4c0f-a8f7-1f3c54f8d555",
   "metadata": {},
   "outputs": [
    {
     "name": "stdout",
     "output_type": "stream",
     "text": [
      "No GPU detected.\n"
     ]
    }
   ],
   "source": [
    "import tensorflow as tf\n",
    "\n",
    "gpus = tf.config.list_physical_devices('GPU')\n",
    "if gpus:\n",
    "    print(\"GPU is available:\", gpus)\n",
    "else:\n",
    "    print(\"No GPU detected.\")\n"
   ]
  },
  {
   "cell_type": "code",
   "execution_count": 18,
   "id": "fe3dd7d4-1b39-4f56-a00d-f4a23df47dfa",
   "metadata": {},
   "outputs": [
    {
     "name": "stdout",
     "output_type": "stream",
     "text": [
      "Is TensorFlow built with CUDA: False\n",
      "Is TensorFlow built with GPU support: False\n"
     ]
    }
   ],
   "source": [
    "print(\"Is TensorFlow built with CUDA:\", tf.test.is_built_with_cuda())\n",
    "print(\"Is TensorFlow built with GPU support:\", tf.test.is_built_with_gpu_support())"
   ]
  },
  {
   "cell_type": "code",
   "execution_count": null,
   "id": "f1bf0cb7-5ac4-4f94-b78e-a59e7fa34e20",
   "metadata": {},
   "outputs": [],
   "source": []
  }
 ],
 "metadata": {
  "kernelspec": {
   "display_name": "Python 3 (ipykernel)",
   "language": "python",
   "name": "python3"
  },
  "language_info": {
   "codemirror_mode": {
    "name": "ipython",
    "version": 3
   },
   "file_extension": ".py",
   "mimetype": "text/x-python",
   "name": "python",
   "nbconvert_exporter": "python",
   "pygments_lexer": "ipython3",
   "version": "3.12.7"
  }
 },
 "nbformat": 4,
 "nbformat_minor": 5
}
